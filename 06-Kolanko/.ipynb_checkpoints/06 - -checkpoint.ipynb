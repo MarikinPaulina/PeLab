{
 "cells": [
  {
   "cell_type": "code",
   "execution_count": 1,
   "metadata": {
    "collapsed": true
   },
   "outputs": [],
   "source": [
    "import numpy as np\n",
    "import matplotlib.pyplot as plt\n",
    "import pandas as pd\n",
    "from matplotlib import rc\n",
    "%matplotlib inline"
   ]
  },
  {
   "cell_type": "code",
   "execution_count": 2,
   "metadata": {
    "collapsed": true
   },
   "outputs": [],
   "source": [
    "rc('font',family='Comic Sans MS')"
   ]
  },
  {
   "cell_type": "code",
   "execution_count": 6,
   "metadata": {
    "collapsed": false
   },
   "outputs": [
    {
     "data": {
      "text/html": [
       "<div>\n",
       "<table border=\"1\" class=\"dataframe\">\n",
       "  <thead>\n",
       "    <tr style=\"text-align: right;\">\n",
       "      <th></th>\n",
       "      <th>iB[miA]</th>\n",
       "      <th>UBE[mV]</th>\n",
       "    </tr>\n",
       "  </thead>\n",
       "  <tbody>\n",
       "    <tr>\n",
       "      <th>0</th>\n",
       "      <td>30</td>\n",
       "      <td>585</td>\n",
       "    </tr>\n",
       "    <tr>\n",
       "      <th>1</th>\n",
       "      <td>35</td>\n",
       "      <td>590</td>\n",
       "    </tr>\n",
       "    <tr>\n",
       "      <th>2</th>\n",
       "      <td>40</td>\n",
       "      <td>595</td>\n",
       "    </tr>\n",
       "    <tr>\n",
       "      <th>3</th>\n",
       "      <td>45</td>\n",
       "      <td>600</td>\n",
       "    </tr>\n",
       "    <tr>\n",
       "      <th>4</th>\n",
       "      <td>50</td>\n",
       "      <td>603</td>\n",
       "    </tr>\n",
       "    <tr>\n",
       "      <th>5</th>\n",
       "      <td>55</td>\n",
       "      <td>606</td>\n",
       "    </tr>\n",
       "    <tr>\n",
       "      <th>6</th>\n",
       "      <td>60</td>\n",
       "      <td>610</td>\n",
       "    </tr>\n",
       "    <tr>\n",
       "      <th>7</th>\n",
       "      <td>65</td>\n",
       "      <td>612</td>\n",
       "    </tr>\n",
       "    <tr>\n",
       "      <th>8</th>\n",
       "      <td>70</td>\n",
       "      <td>615</td>\n",
       "    </tr>\n",
       "    <tr>\n",
       "      <th>9</th>\n",
       "      <td>75</td>\n",
       "      <td>617</td>\n",
       "    </tr>\n",
       "    <tr>\n",
       "      <th>10</th>\n",
       "      <td>80</td>\n",
       "      <td>619</td>\n",
       "    </tr>\n",
       "    <tr>\n",
       "      <th>11</th>\n",
       "      <td>85</td>\n",
       "      <td>621</td>\n",
       "    </tr>\n",
       "    <tr>\n",
       "      <th>12</th>\n",
       "      <td>90</td>\n",
       "      <td>623</td>\n",
       "    </tr>\n",
       "  </tbody>\n",
       "</table>\n",
       "</div>"
      ],
      "text/plain": [
       "    iB[miA]  UBE[mV]\n",
       "0        30      585\n",
       "1        35      590\n",
       "2        40      595\n",
       "3        45      600\n",
       "4        50      603\n",
       "5        55      606\n",
       "6        60      610\n",
       "7        65      612\n",
       "8        70      615\n",
       "9        75      617\n",
       "10       80      619\n",
       "11       85      621\n",
       "12       90      623"
      ]
     },
     "execution_count": 6,
     "metadata": {},
     "output_type": "execute_result"
    },
    {
     "data": {
      "image/png": "[encoded data removed]",
      "text/plain": [
       "<matplotlib.figure.Figure at 0x1e06f573400>"
      ]
     },
     "metadata": {},
     "output_type": "display_data"
    }
   ],
   "source": [
    "wejsciowa0 = pd.read_csv('UCE0.csv')\n",
    "wejsciowa1 = pd.read_csv('UCE1.csv')\n",
    "plt.plot(wejsciowa0['UBE[mV]'],wejsciowa0['iB[miA]'],'.',label=r'$U_{CE}=0V$')\n",
    "plt.plot(wejsciowa1['UBE[mV]'],wejsciowa1['iB[miA]'],'.',label=r'$U_{CE}=10V$')\n",
    "plt.grid()\n",
    "plt.xlabel(r'$U_{BE}[mV]$')\n",
    "plt.ylabel(r'$I_B[\\mu A]$')\n",
    "plt.title('Charakterystyka wejściowa')\n",
    "plt.legend(loc='best')\n",
    "wejsciowa0"
   ]
  },
  {
   "cell_type": "code",
   "execution_count": 16,
   "metadata": {
    "collapsed": false
   },
   "outputs": [
    {
     "data": {
      "text/plain": [
       "<matplotlib.legend.Legend at 0x1e070b15b00>"
      ]
     },
     "execution_count": 16,
     "metadata": {},
     "output_type": "execute_result"
    },
    {
     "data": {
      "image/png": "[encoded data removed]",
      "text/plain": [
       "<matplotlib.figure.Figure at 0x1e070af4978>"
      ]
     },
     "metadata": {},
     "output_type": "display_data"
    }
   ],
   "source": [
    "wyjsciowa3 = pd.read_csv('IB30.csv')\n",
    "wyjsciowa6 = pd.read_csv('IB60.csv')\n",
    "wyjsciowa9 = pd.read_csv('IB90.csv')\n",
    "plt.plot(wyjsciowa3['UCE[V]'],wyjsciowa3['IC[mA]'],'.',label=r'$I_C=30\\mu A$')\n",
    "plt.plot(wyjsciowa6['UCE[V]'],wyjsciowa6['IC[mA]'],'.',label=r'$I_C=60\\mu A$')\n",
    "plt.plot(wyjsciowa9['UCE[V]'],wyjsciowa9['IC[mA]'],'.',label=r'$I_C=90\\mu A$')\n",
    "plt.grid()\n",
    "plt.xlabel(r'$U_{CE}[V]$')\n",
    "plt.ylabel(r'$I_C[mA]$')\n",
    "plt.title('Charakterystyka wyjściowa')\n",
    "plt.legend(loc='best')"
   ]
  },
  {
   "cell_type": "code",
   "execution_count": null,
   "metadata": {
    "collapsed": true
   },
   "outputs": [],
   "source": []
  }
 ],
 "metadata": {
  "kernelspec": {
   "display_name": "Python 3",
   "language": "python",
   "name": "python3"
  },
  "language_info": {
   "codemirror_mode": {
    "name": "ipython",
    "version": 3
   },
   "file_extension": ".py",
   "mimetype": "text/x-python",
   "name": "python",
   "nbconvert_exporter": "python",
   "pygments_lexer": "ipython3",
   "version": "3.6.0"
  }
 },
 "nbformat": 4,
 "nbformat_minor": 2
}
