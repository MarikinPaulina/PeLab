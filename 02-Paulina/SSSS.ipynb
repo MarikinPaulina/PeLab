{
 "cells": [
  {
   "cell_type": "code",
   "execution_count": 2,
   "metadata": {
    "collapsed": false
   },
   "outputs": [],
   "source": [
    "import numpy as np\n",
    "import matplotlib.pyplot as plt\n",
    "import pandas as pd\n",
    "%matplotlib inline"
   ]
  },
  {
   "cell_type": "code",
   "execution_count": 15,
   "metadata": {
    "collapsed": false
   },
   "outputs": [
    {
     "data": {
      "text/html": [
       "<div>\n",
       "<table border=\"1\" class=\"dataframe\">\n",
       "  <thead>\n",
       "    <tr style=\"text-align: right;\">\n",
       "      <th></th>\n",
       "      <th>$U_{max}$ [V]</th>\n",
       "      <th>$U_{max}$ zmierzone [V]</th>\n",
       "      <th>Zakres $U_{max}$ [V]</th>\n",
       "      <th>$U_{min}$ [V]</th>\n",
       "      <th>$U_{min}$ zmierzone [V]</th>\n",
       "      <th>Zakres $U_{min}$ [V]</th>\n",
       "    </tr>\n",
       "  </thead>\n",
       "  <tbody>\n",
       "    <tr>\n",
       "      <th>0</th>\n",
       "      <td>20.0</td>\n",
       "      <td>20.100</td>\n",
       "      <td>200</td>\n",
       "      <td>10.0</td>\n",
       "      <td>10.090</td>\n",
       "      <td>20</td>\n",
       "    </tr>\n",
       "    <tr>\n",
       "      <th>1</th>\n",
       "      <td>10.0</td>\n",
       "      <td>9.400</td>\n",
       "      <td>20</td>\n",
       "      <td>5.0</td>\n",
       "      <td>4.720</td>\n",
       "      <td>20</td>\n",
       "    </tr>\n",
       "    <tr>\n",
       "      <th>2</th>\n",
       "      <td>5.0</td>\n",
       "      <td>4.850</td>\n",
       "      <td>20</td>\n",
       "      <td>2.0</td>\n",
       "      <td>1.950</td>\n",
       "      <td>20</td>\n",
       "    </tr>\n",
       "    <tr>\n",
       "      <th>3</th>\n",
       "      <td>2.0</td>\n",
       "      <td>2.010</td>\n",
       "      <td>20</td>\n",
       "      <td>0.9</td>\n",
       "      <td>0.912</td>\n",
       "      <td>20</td>\n",
       "    </tr>\n",
       "    <tr>\n",
       "      <th>4</th>\n",
       "      <td>0.9</td>\n",
       "      <td>0.921</td>\n",
       "      <td>2</td>\n",
       "      <td>0.3</td>\n",
       "      <td>0.312</td>\n",
       "      <td>2</td>\n",
       "    </tr>\n",
       "  </tbody>\n",
       "</table>\n",
       "</div>"
      ],
      "text/plain": [
       "   $U_{max}$ [V]  $U_{max}$ zmierzone [V]  Zakres $U_{max}$ [V]  \\\n",
       "0           20.0                   20.100                   200   \n",
       "1           10.0                    9.400                    20   \n",
       "2            5.0                    4.850                    20   \n",
       "3            2.0                    2.010                    20   \n",
       "4            0.9                    0.921                     2   \n",
       "\n",
       "   $U_{min}$ [V]  $U_{min}$ zmierzone [V]  Zakres $U_{min}$ [V]  \n",
       "0           10.0                   10.090                    20  \n",
       "1            5.0                    4.720                    20  \n",
       "2            2.0                    1.950                    20  \n",
       "3            0.9                    0.912                    20  \n",
       "4            0.3                    0.312                     2  "
      ]
     },
     "execution_count": 15,
     "metadata": {},
     "output_type": "execute_result"
    }
   ],
   "source": [
    "cechowanie = pd.read_csv(\"cechowanie.csv\")\n",
    "\n",
    "umax = r\"$U_{max}$ [V]\"\n",
    "pomiarmax = r\"$U_{max}$ zmierzone [V]\"\n",
    "umin = r\"$U_{min}$ [V]\"\n",
    "pomiarmin = r\"$U_{min}$ zmierzone [V]\"\n",
    "zakresmax = r\"Zakres $U_{max}$ [V]\"\n",
    "zakresmin = r\"Zakres $U_{min}$ [V]\"\n",
    "\n",
    "cechowanie = cechowanie.rename(columns={r\"Umax\":umax,\n",
    "                   r\"pomiarmax\": pomiarmax,\n",
    "                   r\"pomiarmin\": pomiarmin,\n",
    "                  \"Umin\": umin,\n",
    "                  \"zakresmax\": zakresmax,\n",
    "                  \"zakresmin\": zakresmin})\n",
    "cechowanie"
   ]
  },
  {
   "cell_type": "code",
   "execution_count": 17,
   "metadata": {
    "collapsed": false
   },
   "outputs": [
    {
     "data": {
      "text/plain": [
       "0    336134.453782\n",
       "1    168067.226891\n",
       "2     84033.613445\n",
       "3     33613.445378\n",
       "4     15126.050420\n",
       "Name: $U_{max}$ [V], dtype: float64"
      ]
     },
     "execution_count": 17,
     "metadata": {},
     "output_type": "execute_result"
    }
   ],
   "source": [
    "I = 59.5e-6\n",
    "Rk = cechowanie[umax] / I\n",
    "Rk"
   ]
  },
  {
   "cell_type": "code",
   "execution_count": 22,
   "metadata": {
    "collapsed": false
   },
   "outputs": [
    {
     "data": {
      "text/html": [
       "<div>\n",
       "<table border=\"1\" class=\"dataframe\">\n",
       "  <thead>\n",
       "    <tr style=\"text-align: right;\">\n",
       "      <th></th>\n",
       "      <th>$U_{max}$ [V]</th>\n",
       "      <th>R [$k\\Omega$]</th>\n",
       "    </tr>\n",
       "  </thead>\n",
       "  <tbody>\n",
       "    <tr>\n",
       "      <th>0</th>\n",
       "      <td>20.0</td>\n",
       "      <td>336</td>\n",
       "    </tr>\n",
       "    <tr>\n",
       "      <th>1</th>\n",
       "      <td>10.0</td>\n",
       "      <td>168</td>\n",
       "    </tr>\n",
       "    <tr>\n",
       "      <th>2</th>\n",
       "      <td>5.0</td>\n",
       "      <td>84</td>\n",
       "    </tr>\n",
       "    <tr>\n",
       "      <th>3</th>\n",
       "      <td>2.0</td>\n",
       "      <td>34</td>\n",
       "    </tr>\n",
       "    <tr>\n",
       "      <th>4</th>\n",
       "      <td>0.9</td>\n",
       "      <td>15</td>\n",
       "    </tr>\n",
       "  </tbody>\n",
       "</table>\n",
       "</div>"
      ],
      "text/plain": [
       "   $U_{max}$ [V]  R [$k\\Omega$]\n",
       "0           20.0            336\n",
       "1           10.0            168\n",
       "2            5.0             84\n",
       "3            2.0             34\n",
       "4            0.9             15"
      ]
     },
     "execution_count": 22,
     "metadata": {},
     "output_type": "execute_result"
    }
   ],
   "source": [
    "r = r\"R [$k\\Omega$]\"\n",
    "tabela1 = pd.DataFrame({umax: cechowanie[umax], r : np.round(Rk/1e3).astype(int)})\n",
    "tabela1"
   ]
  },
  {
   "cell_type": "code",
   "execution_count": 30,
   "metadata": {
    "collapsed": false
   },
   "outputs": [
    {
     "data": {
      "text/html": [
       "<div>\n",
       "<table border=\"1\" class=\"dataframe\">\n",
       "  <thead>\n",
       "    <tr style=\"text-align: right;\">\n",
       "      <th></th>\n",
       "      <th>$R_c[k\\Omega]$</th>\n",
       "      <th>$U_{max}[V]$</th>\n",
       "      <th>R [$k\\Omega$]</th>\n",
       "    </tr>\n",
       "  </thead>\n",
       "  <tbody>\n",
       "    <tr>\n",
       "      <th>0</th>\n",
       "      <td>336.6</td>\n",
       "      <td>20.0277</td>\n",
       "      <td>336</td>\n",
       "    </tr>\n",
       "    <tr>\n",
       "      <th>1</th>\n",
       "      <td>168.6</td>\n",
       "      <td>10.0317</td>\n",
       "      <td>168</td>\n",
       "    </tr>\n",
       "    <tr>\n",
       "      <th>2</th>\n",
       "      <td>84.6</td>\n",
       "      <td>5.0337</td>\n",
       "      <td>84</td>\n",
       "    </tr>\n",
       "    <tr>\n",
       "      <th>3</th>\n",
       "      <td>34.6</td>\n",
       "      <td>2.0587</td>\n",
       "      <td>34</td>\n",
       "    </tr>\n",
       "    <tr>\n",
       "      <th>4</th>\n",
       "      <td>15.6</td>\n",
       "      <td>0.9282</td>\n",
       "      <td>15</td>\n",
       "    </tr>\n",
       "  </tbody>\n",
       "</table>\n",
       "</div>"
      ],
      "text/plain": [
       "   $R_c[k\\Omega]$  $U_{max}[V]$  R [$k\\Omega$]\n",
       "0           336.6       20.0277            336\n",
       "1           168.6       10.0317            168\n",
       "2            84.6        5.0337             84\n",
       "3            34.6        2.0587             34\n",
       "4            15.6        0.9282             15"
      ]
     },
     "execution_count": 30,
     "metadata": {},
     "output_type": "execute_result"
    }
   ],
   "source": [
    "URe = r\"$U_{k}[V]$\"\n",
    "RC = r\"$R_c[k\\Omega]$\"\n",
    "tabelka2 = pd.DataFrame({r:np.round(Rk/1e3).astype(int),RC:np.round(Rk/1e3).astype(int)+0.6,URe:(np.round(Rk/1e3).astype(int)+0.6)*I*1e3})\n",
    "tabelka2"
   ]
  }
 ],
 "metadata": {
  "kernelspec": {
   "display_name": "Python 3",
   "language": "python",
   "name": "python3"
  },
  "language_info": {
   "codemirror_mode": {
    "name": "ipython",
    "version": 3
   },
   "file_extension": ".py",
   "mimetype": "text/x-python",
   "name": "python",
   "nbconvert_exporter": "python",
   "pygments_lexer": "ipython3",
   "version": "3.6.0"
  }
 },
 "nbformat": 4,
 "nbformat_minor": 2
}
