{
 "cells": [
  {
   "cell_type": "code",
   "execution_count": 1,
   "metadata": {
    "collapsed": true
   },
   "outputs": [],
   "source": [
    "import numpy as np\n",
    "import matplotlib.pyplot as plt\n",
    "import pandas as pd\n",
    "from matplotlib import rc\n",
    "%matplotlib inline"
   ]
  },
  {
   "cell_type": "code",
   "execution_count": 2,
   "metadata": {
   },
   "outputs": [],
   "source": [
    "rc('font', family='Comic Sans MS')\n",
    "zasilacz = pd.read_csv(\"Zasilacz.csv\")\n",
    "oscyloskop = pd.read_csv(\"Oscyloskop.csv\")"
   ]
  },
  {
   "cell_type": "code",
   "execution_count": 10,
   "metadata": {},
   "outputs": [],
   "source": [
    "for i in range(4):\n",
    "    zasilacz.loc[i,\"deltaU[V]\"] = (zasilacz.loc[i,\"U[V]\"])*0.003+0.01\n",
    "    zasilacz.loc[i,\"deltaI[mA]\"] = 30*0.01\n",
    "zasilacz.loc[0,\"deltaI[mA]\"]= zasilacz.loc[3,\"deltaI[mA]\"]= 0\n",
    "for i in range(4,7): \n",
    "    zasilacz.loc[i,\"deltaI[mA]\"] = zasilacz.loc[i,\"I[mA]\"]*0.012+0.1\n",
    "zasilacz.loc[4,\"deltaU[V]\"] = 30*0.01\n",
    "zasilacz.loc[5,\"deltaU[V]\"] = 10*0.01"
   ]
  },
  {
   "cell_type": "code",
   "execution_count": 16,
   "metadata": {},
   "outputs": [
    {
     "data": {
      "text/html": [
       "<div>\n",
       "<style>\n",
       "    .dataframe thead tr:only-child th {\n",
       "        text-align: right;\n",
       "    }\n",
       "\n",
       "    .dataframe thead th {\n",
       "        text-align: left;\n",
       "    }\n",
       "\n",
       "    .dataframe tbody tr th {\n",
       "        vertical-align: top;\n",
       "    }\n",
       "</style>\n",
       "<table border=\"1\" class=\"dataframe\">\n",
       "  <thead>\n",
       "    <tr style=\"text-align: right;\">\n",
       "      <th></th>\n",
       "      <th>U[V]</th>\n",
       "      <th>I[mA]</th>\n",
       "      <th>deltaU[V]</th>\n",
       "      <th>deltaI[mA]</th>\n",
       "      <th>opor[kom]</th>\n",
       "      <th>deltaopor[kom]</th>\n",
       "    </tr>\n",
       "  </thead>\n",
       "  <tbody>\n",
       "    <tr>\n",
       "      <th>0</th>\n",
       "      <td>15.99</td>\n",
       "      <td>20.0</td>\n",
       "      <td>0.05797</td>\n",
       "      <td>0.0000</td>\n",
       "      <td>0.799500</td>\n",
       "      <td>0.002899</td>\n",
       "    </tr>\n",
       "    <tr>\n",
       "      <th>1</th>\n",
       "      <td>15.97</td>\n",
       "      <td>19.0</td>\n",
       "      <td>0.05791</td>\n",
       "      <td>0.3000</td>\n",
       "      <td>0.840526</td>\n",
       "      <td>0.013617</td>\n",
       "    </tr>\n",
       "    <tr>\n",
       "      <th>2</th>\n",
       "      <td>15.96</td>\n",
       "      <td>15.0</td>\n",
       "      <td>0.05788</td>\n",
       "      <td>0.3000</td>\n",
       "      <td>1.064000</td>\n",
       "      <td>0.021627</td>\n",
       "    </tr>\n",
       "    <tr>\n",
       "      <th>3</th>\n",
       "      <td>15.95</td>\n",
       "      <td>0.0</td>\n",
       "      <td>0.05785</td>\n",
       "      <td>0.0000</td>\n",
       "      <td>inf</td>\n",
       "      <td>NaN</td>\n",
       "    </tr>\n",
       "    <tr>\n",
       "      <th>4</th>\n",
       "      <td>15.00</td>\n",
       "      <td>20.0</td>\n",
       "      <td>0.30000</td>\n",
       "      <td>0.3400</td>\n",
       "      <td>0.750000</td>\n",
       "      <td>0.019687</td>\n",
       "    </tr>\n",
       "    <tr>\n",
       "      <th>5</th>\n",
       "      <td>7.40</td>\n",
       "      <td>20.2</td>\n",
       "      <td>0.10000</td>\n",
       "      <td>0.3424</td>\n",
       "      <td>0.366337</td>\n",
       "      <td>0.007941</td>\n",
       "    </tr>\n",
       "    <tr>\n",
       "      <th>6</th>\n",
       "      <td>0.00</td>\n",
       "      <td>20.3</td>\n",
       "      <td>0.00000</td>\n",
       "      <td>0.3436</td>\n",
       "      <td>0.000000</td>\n",
       "    </tr>\n",
       "  </tbody>\n",
       "</table>\n",
       "</div>"
      ],
      "text/plain": [
       "    U[V]  I[mA]  deltaU[V]  deltaI[mA]  opor[kom]  deltaopor[kom]\n",
       "0  15.99   20.0    0.05797      0.0000   0.799500        0.002899\n",
       "1  15.97   19.0    0.05791      0.3000   0.840526        0.013617\n",
       "2  15.96   15.0    0.05788      0.3000   1.064000        0.021627\n",
       "3  15.95    0.0    0.05785      0.0000        inf             NaN\n",
       "4  15.00   20.0    0.30000      0.3400   0.750000        0.019687\n",
       "5   7.40   20.2    0.10000      0.3424   0.366337        0.007941\n",
       "6   0.00   20.3    0.00000      0.3436   0.000000        0.000000"
      ]
     },
     "execution_count": 16,
     "metadata": {},
     "output_type": "execute_result"
    }
   ],
   "source": [
    "zasilacz['opor[kom]'] = zasilacz['U[V]']/zasilacz['I[mA]']\n",
    "I = zasilacz['I[mA]']\n",
    "U = zasilacz['U[V]']\n",
    "dI = zasilacz['deltaI[mA]']\n",
    "dU = zasilacz['deltaU[V]']\n",
    "zasilacz['deltaopor[kom]'] = ((dU/I)**2 + (U*dI/I**2)**2)**0.5\n",
    "zasilacz"
   ]
  },
  {
   "cell_type": "code",
   "metadata": {},
   "outputs": [
    {
     "data": {
      "text/html": [
       "<div>\n",
       "<style>\n",
       "    .dataframe thead tr:only-child th {\n",
       "        text-align: right;\n",
       "    }\n",
       "\n",
       "    .dataframe thead th {\n",
       "        text-align: left;\n",
       "    }\n",
       "\n",
       "    .dataframe tbody tr th {\n",
       "        vertical-align: top;\n",
       "    }\n",
       "</style>\n",
       "<table border=\"1\" class=\"dataframe\">\n",
       "  <thead>\n",
       "    <tr style=\"text-align: right;\">\n",
       "      <th></th>\n",
       "      <th>U[V]</th>\n",
       "      <th>I[mA]</th>\n",
       "      <th>deltaU[V]</th>\n",
       "      <th>deltaI[mA]</th>\n",
       "      <th>opor[kom]</th>\n",
       "      <th>deltaopor[kom]</th>\n",
       "    </tr>\n",
       "  </thead>\n",
       "  <tbody>\n",
       "    <tr>\n",
       "      <th>0</th>\n",
       "      <td>15.99</td>\n",
       "      <td>20.0</td>\n",
       "      <td>0.058</td>\n",
       "      <td>0.000</td>\n",
       "      <td>0.800000</td>\n",
       "      <td>0.003</td>\n",
       "    </tr>\n",
       "    <tr>\n",
       "      <th>1</th>\n",
       "      <td>15.97</td>\n",
       "      <td>19.0</td>\n",
       "      <td>0.058</td>\n",
       "      <td>0.300</td>\n",
       "      <td>0.841000</td>\n",
       "      <td>0.014</td>\n",
       "    </tr>\n",
       "    <tr>\n",
       "      <th>2</th>\n",
       "      <td>15.96</td>\n",
       "      <td>15.0</td>\n",
       "      <td>0.058</td>\n",
       "      <td>0.300</td>\n",
       "      <td>1.064000</td>\n",
       "      <td>0.022</td>\n",
       "    </tr>\n",
       "    <tr>\n",
       "      <th>3</th>\n",
       "      <td>15.95</td>\n",
       "      <td>0.0</td>\n",
       "      <td>0.058</td>\n",
       "      <td>0.000</td>\n",
       "      <td>inf</td>\n",
       "      <td>NaN</td>\n",
       "    </tr>\n",
       "    <tr>\n",
       "      <th>4</th>\n",
       "      <td>15.00</td>\n",
       "      <td>20.0</td>\n",
       "      <td>0.300</td>\n",
       "      <td>0.340</td>\n",
       "      <td>0.750000</td>\n",
       "      <td>0.020</td>\n",
       "    </tr>\n",
       "    <tr>\n",
       "      <th>5</th>\n",
       "      <td>7.40</td>\n",
       "      <td>20.2</td>\n",
       "      <td>0.100</td>\n",
       "      <td>0.342</td>\n",
       "      <td>0.366000</td>\n",
       "      <td>0.008</td>\n",
       "    </tr>\n",
       "    <tr>\n",
       "      <th>6</th>\n",
       "      <td>0.00</td>\n",
       "      <td>20.3</td>\n",
       "      <td>0.000</td>\n",
       "      <td>0.344</td>\n",
       "      <td>0.000000</td>\n",
       "      <td>0.000</td>\n",
       "    </tr>\n",
       "  </tbody>\n",
       "</table>\n",
       "</div>"
      ],
      "text/plain": [
       "    U[V]  I[mA]  deltaU[V]  deltaI[mA]  opor[kom]  deltaopor[kom]\n",
       "0  15.99   20.0      0.058       0.000   0.800000           0.003\n",
       "1  15.97   19.0      0.058       0.300   0.841000           0.014\n",
       "2  15.96   15.0      0.058       0.300   1.064000           0.022\n",
       "3  15.95    0.0      0.058       0.000        inf             NaN\n",
       "4  15.00   20.0      0.300       0.340   0.750000           0.020\n",
       "5   7.40   20.2      0.100       0.342   0.366000           0.008\n",
       "6   0.00   20.3      0.000       0.344   0.000000           0.000"
      ]
     },
     "execution_count": 21,
     "metadata": {},
     "output_type": "execute_result"
    }
   ],
   "source": [
    "zasilacz.round(3)"
   ]
  },
  {
   "cell_type": "code",
   "execution_count": 31,
   "metadata": {},
   "outputs": [
    {
     "data": {
      "text/plain": [
       "<matplotlib.legend.Legend at 0x21afb3a8fd0>"
      ]
     },
     "execution_count": 5,
     "metadata": {},
     "output_type": "execute_result"
    },
    {
     "data": {
      "image/png": "iVBORw0KGgoAAAANSUhEUgAAAYEAAAEYCAYAAAC6MEqvAAAABHNCSVQICAgIfAhkiAAAAAlwSFlz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\nAElFTkSuQmCC\n",
      "text/plain": [
       "<matplotlib.figure.Figure at 0x21afb2c18d0>"
      ]
     },
     "metadata": {},
     "output_type": "display_data"
    }
   ],
   "source": [
    "plt.errorbar(zasilacz[\"I[mA]\"],zasilacz[\"U[V]\"],zasilacz[\"deltaU[V]\"],zasilacz[\"deltaI[mA]\"],'.b',label='Punkty pomiarowe')\n",
    "plt.title(\"Charakterystyka wyjściowa zasilacza \")\n",
    "plt.xlabel(\"I[mA]\")\n",
    "plt.ylabel([\"U[V]\"])\n",
    "plt.grid()\n",
    "plt.plot([20,20],[0,15.99],'--g',label='Idealna gałąź prądowa')\n",
    "plt.plot([0,20],[15.99,15.99],'--c',label='Idealna gałąź napięciowa')\n",
    "plt.legend()\n",
    "# plt.savefig(\"zasilacz.eps\")\n",
    "# plt.savefig(\"zasilacz.png\")"
   ]
  },
  {
   "cell_type": "code",
   "execution_count": 32,
   "metadata": {},
>>>>>>> cae5f69dcae842bf76b3ceda0517025d3f469587
   "outputs": [
    {
     "data": {
      "text/plain": [
       "[<matplotlib.lines.Line2D at 0x21afb2acf60>]"
      ]
     },
     "execution_count": 6,
     "metadata": {},
     "output_type": "execute_result"
    },
    {
     "data": {
      "image/png": "iVBORw0KGgoAAAANSUhEUgAAAYUAAAEdCAYAAADjFntmAAAABHNCSVQICAgIfAhkiAAAAAlwSFlz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\nZmZWcFEwM7OCi4KZmRX+P5bjgsuflfLhAAAAAElFTkSuQmCC\n",
      "text/plain": [
       "<matplotlib.figure.Figure at 0x21afb2ace80>"
      ]
     },
     "metadata": {},
     "output_type": "display_data"
    }
   ],
   "source": [
    "plt.plot(oscyloskop[\"omega[Hz]\"],oscyloskop[\"U[V]\"],'.c')\n",
    "plt.xscale('log')\n",
    "plt.title('Charakterystyka częstotliwościowa woltomierza')\n",
    "plt.xlabel(r'$\\omega$[Hz]')\n",
    "plt.ylabel('U[V]')\n",
    "plt.grid()\n",
    "plt.plot(oscyloskop.loc[[0,1],\"omega[Hz]\"],oscyloskop.loc[[0,1],\"U[V]\"],'-c')\n",
    "plt.plot(oscyloskop.loc[[2,3],\"omega[Hz]\"],oscyloskop.loc[[2,3],\"U[V]\"],'-c')\n",
    "# plt.savefig('oscyloskop.eps')\n",
    "# plt.savefig('oscyloskop.png')"
   ]
  },
  {
   "cell_type": "code",
   "execution_count": null,
   "metadata": {
    "collapsed": false
   },
   "outputs": [],
   "source": []
  }
 ],
 "metadata": {
  "kernelspec": {
   "display_name": "Python 3",
   "language": "python",
   "name": "python3"
  },
  "language_info": {
   "codemirror_mode": {
    "name": "ipython",
    "version": 3
   },
   "file_extension": ".py",
   "mimetype": "text/x-python",
   "name": "python",
   "nbconvert_exporter": "python",
   "pygments_lexer": "ipython3",
   "version": "3.6.2"
  }
 },
 "nbformat": 4,
 "nbformat_minor": 2
}
