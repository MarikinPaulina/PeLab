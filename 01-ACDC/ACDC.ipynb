{
 "cells": [
  {
   "cell_type": "code",
   "execution_count": 1,
   "metadata": {
    "collapsed": true
   },
   "outputs": [],
   "source": [
    "import numpy as np\n",
    "import matplotlib.pyplot as plt\n",
    "import pandas as pd\n",
    "from matplotlib import rc\n",
    "%matplotlib inline"
   ]
  },
  {
   "cell_type": "code",
   "execution_count": 8,
   "metadata": {
    "collapsed": false
   },
   "outputs": [],
   "source": [
    "rc('font', family='Comic Sans MS')\n",
    "zasilacz = pd.read_csv(\"Zasilacz.csv\")\n",
    "oscyloskop = pd.read_csv(\"Oscyloskop.csv\")"
   ]
  },
  {
   "cell_type": "code",
   "execution_count": 13,
   "metadata": {
    "collapsed": false
   },
   "outputs": [],
   "source": [
    "for i in range(4):\n",
    "    zasilacz.loc[i][\"deltaU[V]\"] = (zasilacz.loc[i][\"U[V]\"])*0.003+0.01\n",
    "    zasilacz.loc[i,\"deltaI[mA]\"] = 30*0.01\n",
    "zasilacz.loc[0,\"deltaI[mA]\"]= zasilacz.loc[3,\"deltaI[mA]\"]= 0\n",
    "for i in range(4,7): \n",
    "    zasilacz.loc[i,\"deltaI[mA]\"] = zasilacz.loc[i,\"I[mA]\"]*0.012+0.1\n",
    "zasilacz.loc[4,\"deltaU[V]\"] = 30*0.01\n",
    "zasilacz.loc[5,\"deltaU[V]\"] = 10*0.01"
   ]
  },
  {
   "cell_type": "code",
   "execution_count": 12,
   "metadata": {
    "collapsed": false
   },
   "outputs": [
    {
     "data": {
      "text/html": [
       "<div>\n",
       "<table border=\"1\" class=\"dataframe\">\n",
       "  <thead>\n",
       "    <tr style=\"text-align: right;\">\n",
       "      <th></th>\n",
       "      <th>U[V]</th>\n",
       "      <th>I[mA]</th>\n",
       "      <th>deltaI[mA]</th>\n",
       "      <th>deltaU[V]</th>\n",
       "      <th>opor[om]</th>\n",
       "      <th>opor[kom]</th>\n",
       "    </tr>\n",
       "  </thead>\n",
       "  <tbody>\n",
       "    <tr>\n",
       "      <th>0</th>\n",
       "      <td>15.99</td>\n",
       "      <td>20.0</td>\n",
       "      <td>0.0000</td>\n",
       "      <td>NaN</td>\n",
       "      <td>0.799500</td>\n",
       "      <td>0.799500</td>\n",
       "    </tr>\n",
       "    <tr>\n",
       "      <th>1</th>\n",
       "      <td>15.97</td>\n",
       "      <td>19.0</td>\n",
       "      <td>0.3000</td>\n",
       "      <td>NaN</td>\n",
       "      <td>0.840526</td>\n",
       "      <td>0.840526</td>\n",
       "    </tr>\n",
       "    <tr>\n",
       "      <th>2</th>\n",
       "      <td>15.96</td>\n",
       "      <td>15.0</td>\n",
       "      <td>0.3000</td>\n",
       "      <td>NaN</td>\n",
       "      <td>1.064000</td>\n",
       "      <td>1.064000</td>\n",
       "    </tr>\n",
       "    <tr>\n",
       "      <th>3</th>\n",
       "      <td>15.95</td>\n",
       "      <td>0.0</td>\n",
       "      <td>0.0000</td>\n",
       "      <td>NaN</td>\n",
       "      <td>inf</td>\n",
       "      <td>inf</td>\n",
       "    </tr>\n",
       "    <tr>\n",
       "      <th>4</th>\n",
       "      <td>15.00</td>\n",
       "      <td>20.0</td>\n",
       "      <td>1.2400</td>\n",
       "      <td>0.3</td>\n",
       "      <td>0.750000</td>\n",
       "      <td>0.750000</td>\n",
       "    </tr>\n",
       "    <tr>\n",
       "      <th>5</th>\n",
       "      <td>7.40</td>\n",
       "      <td>20.2</td>\n",
       "      <td>1.2424</td>\n",
       "      <td>0.1</td>\n",
       "      <td>0.366337</td>\n",
       "      <td>0.366337</td>\n",
       "    </tr>\n",
       "    <tr>\n",
       "      <th>6</th>\n",
       "      <td>0.00</td>\n",
       "      <td>20.3</td>\n",
       "      <td>1.2436</td>\n",
       "      <td>NaN</td>\n",
       "      <td>0.000000</td>\n",
       "      <td>0.000000</td>\n",
       "    </tr>\n",
       "  </tbody>\n",
       "</table>\n",
       "</div>"
      ],
      "text/plain": [
       "    U[V]  I[mA]  deltaI[mA]  deltaU[V]  opor[om]  opor[kom]\n",
       "0  15.99   20.0      0.0000        NaN  0.799500   0.799500\n",
       "1  15.97   19.0      0.3000        NaN  0.840526   0.840526\n",
       "2  15.96   15.0      0.3000        NaN  1.064000   1.064000\n",
       "3  15.95    0.0      0.0000        NaN       inf        inf\n",
       "4  15.00   20.0      1.2400        0.3  0.750000   0.750000\n",
       "5   7.40   20.2      1.2424        0.1  0.366337   0.366337\n",
       "6   0.00   20.3      1.2436        NaN  0.000000   0.000000"
      ]
     },
     "execution_count": 12,
     "metadata": {},
     "output_type": "execute_result"
    }
   ],
   "source": [
    "zasilacz['opor[kom]'] = zasilacz['U[V]']/zasilacz['I[mA]']\n",
    "zasilacz"
   ]
  },
  {
   "cell_type": "code",
   "execution_count": 31,
   "metadata": {
    "collapsed": false
   },
   "outputs": [
    {
     "data": {
      "image/png": "[encoded data removed]",
      "text/plain": [
       "<matplotlib.figure.Figure at 0x2cd82cdf898>"
      ]
     },
     "metadata": {},
     "output_type": "display_data"
    }
   ],
   "source": [
    "plt.errorbar(zasilacz[\"I[mA]\"],zasilacz[\"U[V]\"],zasilacz[\"deltaU[V]\"],zasilacz[\"deltaI[mA]\"],'.b',label='Punkty pomiarowe')\n",
    "plt.title(\"Charakterystyka wyjściowa zasilacza \")\n",
    "plt.xlabel(\"I[mA]\")\n",
    "plt.ylabel([\"U[V]\"])\n",
    "plt.grid()\n",
    "plt.plot([20,20],[0,15.99],'--g',label='Idealna gałąź prądowa')\n",
    "plt.plot([0,20],[15.99,15.99],'--c',label='Idealna gałąź napięciowa')\n",
    "plt.legend()\n",
    "# plt.savefig(\"zasilacz.eps\")\n",
    "# plt.savefig(\"zasilacz.png\")"
   ]
  },
  {
   "cell_type": "code",
   "execution_count": 32,
   "metadata": {
    "collapsed": false
   },
   "outputs": [
    {
     "data": {
      "image/png": "[encoded data removed]",
      "text/plain": [
       "<matplotlib.figure.Figure at 0x2cd82ce50f0>"
      ]
     },
     "metadata": {},
     "output_type": "display_data"
    }
   ],
   "source": [
    "plt.plot(oscyloskop[\"omega[Hz]\"],oscyloskop[\"U[V]\"],'.c')\n",
    "plt.xscale('log')\n",
    "plt.title('Charakterystyka częstotliwościowa woltomierza')\n",
    "plt.xlabel(r'$\\omega$[Hz]')\n",
    "plt.ylabel('U[V]')\n",
    "plt.grid()\n",
    "plt.plot(oscyloskop.loc[[0,1],\"omega[Hz]\"],oscyloskop.loc[[0,1],\"U[V]\"],'-c')\n",
    "plt.plot(oscyloskop.loc[[2,3],\"omega[Hz]\"],oscyloskop.loc[[2,3],\"U[V]\"],'-c')\n",
    "# plt.savefig('oscyloskop.eps')\n",
    "# plt.savefig('oscyloskop.png')"
   ]
  }
 ],
 "metadata": {
  "kernelspec": {
   "display_name": "Python 3",
   "language": "python",
   "name": "python3"
  },
  "language_info": {
   "codemirror_mode": {
    "name": "ipython",
    "version": 3
   },
   "file_extension": ".py",
   "mimetype": "text/x-python",
   "name": "python",
   "nbconvert_exporter": "python",
   "pygments_lexer": "ipython3",
   "version": "3.6.0"
  }
 },
 "nbformat": 4,
 "nbformat_minor": 2
}
