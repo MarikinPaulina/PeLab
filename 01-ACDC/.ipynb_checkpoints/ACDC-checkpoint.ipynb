{
 "cells": [
  {
   "cell_type": "code",
   "execution_count": 1,
   "metadata": {
    "collapsed": true
   },
   "outputs": [],
   "source": [
    "import numpy as np\n",
    "import matplotlib.pyplot as plt\n",
    "import pandas as pd\n",
    "from matplotlib import rc\n",
    "%matplotlib inline"
   ]
  },
  {
   "cell_type": "code",
   "execution_count": 2,
   "metadata": {
    "collapsed": false
   },
   "outputs": [],
   "source": [
    "rc('font', family='Comic Sans MS')\n",
    "zasilacz = pd.read_csv(\"Zasilacz.csv\")\n",
    "oscyloskop = pd.read_csv(\"Oscyloskop.csv\")"
   ]
  },
  {
   "cell_type": "code",
   "execution_count": 3,
   "metadata": {
    "collapsed": false
   },
   "outputs": [],
   "source": [
    "for i in range(4):\n",
    "    zasilacz.loc[i][\"deltaU[V]\"] = (zasilacz.loc[i][\"U[V]\"])*0.003+0.01\n",
    "    zasilacz.loc[i,\"deltaI[mA]\"] = 30*0.01\n",
    "zasilacz.loc[0,\"deltaI[mA]\"]= zasilacz.loc[3,\"deltaI[mA]\"]= 0\n",
    "for i in range(4,7): \n",
    "    zasilacz.loc[i,\"deltaI[mA]\"] = zasilacz.loc[i,\"I[mA]\"]*0.012+1\n",
    "zasilacz.loc[4,\"deltaU[V]\"] = 30*0.01\n",
    "zasilacz.loc[5,\"deltaU[V]\"] = 10*0.01"
   ]
  },
  {
   "cell_type": "code",
   "execution_count": 4,
   "metadata": {
    "collapsed": false
   },
   "outputs": [
    {
     "data": {
      "text/plain": [
       "[<matplotlib.lines.Line2D at 0x2cd808a19e8>]"
      ]
     },
     "execution_count": 4,
     "metadata": {},
     "output_type": "execute_result"
    },
    {
     "data": {
      "image/png": "[encoded data removed]",
      "text/plain": [
       "<matplotlib.figure.Figure at 0x2cd807db898>"
      ]
     },
     "metadata": {},
     "output_type": "display_data"
    }
   ],
   "source": [
    "plt.errorbar(zasilacz[\"I[mA]\"],zasilacz[\"U[V]\"],zasilacz[\"deltaU[V]\"],zasilacz[\"deltaI[mA]\"],'.')\n",
    "plt.title(\"Charakterystyka wyjściowa zasilacza \")\n",
    "plt.xlabel(\"I[mA]\")\n",
    "plt.ylabel([\"U[V]\"])\n",
    "plt.plot([20,20],[0,16],'--')\n",
    "plt.plot([0,20],[16,16],'--')"
   ]
  },
  {
   "cell_type": "code",
   "execution_count": 5,
   "metadata": {
    "collapsed": false
   },
   "outputs": [
    {
     "data": {
      "text/plain": [
       "[<matplotlib.lines.Line2D at 0x2cd808b1b70>]"
      ]
     },
     "execution_count": 5,
     "metadata": {},
     "output_type": "execute_result"
    },
    {
     "data": {
      "image/png": "[encoded data removed]",
      "text/plain": [
       "<matplotlib.figure.Figure at 0x2cd808b1cc0>"
      ]
     },
     "metadata": {},
     "output_type": "display_data"
    }
   ],
   "source": [
    "plt.plot(oscyloskop[\"omega[Hz]\"],oscyloskop[\"U[V]\"],'.')\n",
    "plt.xscale('log')\n",
    "plt.plot(oscyloskop.loc[[0,1],\"omega[Hz]\"],oscyloskop.loc[[0,1],\"U[V]\"],'-c')\n",
    "plt.plot(oscyloskop.loc[[2,3],\"omega[Hz]\"],oscyloskop.loc[[2,3],\"U[V]\"],'-c')"
   ]
  }
 ],
 "metadata": {
  "kernelspec": {
   "display_name": "Python 3",
   "language": "python",
   "name": "python3"
  },
  "language_info": {
   "codemirror_mode": {
    "name": "ipython",
    "version": 3
   },
   "file_extension": ".py",
   "mimetype": "text/x-python",
   "name": "python",
   "nbconvert_exporter": "python",
   "pygments_lexer": "ipython3",
   "version": "3.6.0"
  }
 },
 "nbformat": 4,
 "nbformat_minor": 2
}
